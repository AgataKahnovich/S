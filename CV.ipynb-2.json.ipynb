{
    "cells": [
        {
            "source": [
                "import plotly.graph_objects as go\n",
                "\n",
                "fig = go.Figure(data=[go.Sankey(\n",
                "    node = dict(\n",
                "      pad = 15,\n",
                "      thickness = 20,\n",
                "      line = dict(color = \"black\", width = 0.5),\n",
                "      label = ['Management education', 'Math abilities', 'Hard working', 'Critical thinking',\n",
                "               'Logistics experience', 'Media experience', 'Private business experience', \n",
                "               'Data in Pharma experience', 'Additional tech education', 'Additional soft skills education',\n",
                "               'Business Process Optimization', 'Change Management', 'Data Analysis', 'Data management', \n",
                "               'Effective communication', 'Leadership', 'Pharma'],\n",
                "    color = ['lavender', 'white', 'white', 'white', 'purple', 'purple', 'purple', 'purple', \n",
                "             'lavender', 'lavender', 'navy', 'navy', 'navy', 'navy', 'navy', 'navy', 'navy'],\n",
                "\n",
                "    ),\n",
                "    link = dict(\n",
                "      source = [ 0,0,1,1,2,2,2,2,3,3,3,3,3,4,4,4,5,5,6,6,6,7,7,7,7,7,7,7,8,8,9,9,2,3,0,2,0,6,3,5,4,1,7,2,0,9,9], \n",
                "      target = [ 10,14,12,13,10,11,12,13,10,11,12,13,14,10,14,15,12,14,10,14,15,10,11,12,13,14,15,16,12,13,14,15,5,5,6,6,4,4,9,9,7,8,8,7,13,10,11],\n",
                "      value = [ 1,1,2,2,1,1,1,1,2,2,1,1,1,1,1,1,1,1,1,1,1,2,1,1,2,1,1,4,2,2,2,1,1,1,1,1,1,1,1,1,1,1,1,1,1,1,1],\n",
                "  \n",
                "  ))])\n",
                "\n",
                "fig.update_layout(title_text=\"Nina Arsenteva main skills\", font_size=10)\n",
                "fig.show()"
            ],
            "outputs": [
                {
                    "data": {
                        "text/html": [
                            "<div>\n",
                            "        \n",
                            "        \n",
                            "            <div id=\"0ebebdb4-9f71-45c4-9eeb-1467aee4d07a\" class=\"plotly-graph-div\" style=\"height:525px; width:100%;\"></div>\n",
                            "            <script type=\"text/javascript\">\n",
                            "                require([\"plotly\"], function(Plotly) {\n",
                            "                    window.PLOTLYENV=window.PLOTLYENV || {};\n",
                            "                    \n",
                            "                if (document.getElementById(\"0ebebdb4-9f71-45c4-9eeb-1467aee4d07a\")) {\n",
                            "                    Plotly.newPlot(\n",
                            "                        '0ebebdb4-9f71-45c4-9eeb-1467aee4d07a',\n",
                            "                        [{\"link\": {\"source\": [0, 0, 1, 1, 2, 2, 2, 2, 3, 3, 3, 3, 3, 4, 4, 4, 5, 5, 6, 6, 6, 7, 7, 7, 7, 7, 7, 7, 8, 8, 9, 9, 2, 3, 0, 2, 0, 6, 3, 5, 4, 1, 7, 2, 0, 9, 9], \"target\": [10, 14, 12, 13, 10, 11, 12, 13, 10, 11, 12, 13, 14, 10, 14, 15, 12, 14, 10, 14, 15, 10, 11, 12, 13, 14, 15, 16, 12, 13, 14, 15, 5, 5, 6, 6, 4, 4, 9, 9, 7, 8, 8, 7, 13, 10, 11], \"value\": [1, 1, 2, 2, 1, 1, 1, 1, 2, 2, 1, 1, 1, 1, 1, 1, 1, 1, 1, 1, 1, 2, 1, 1, 2, 1, 1, 4, 2, 2, 2, 1, 1, 1, 1, 1, 1, 1, 1, 1, 1, 1, 1, 1, 1, 1, 1]}, \"node\": {\"color\": [\"lavender\", \"white\", \"white\", \"white\", \"purple\", \"purple\", \"purple\", \"purple\", \"lavender\", \"lavender\", \"navy\", \"navy\", \"navy\", \"navy\", \"navy\", \"navy\", \"navy\"], \"label\": [\"Management education\", \"Math abilities\", \"Hard working\", \"Critical thinking\", \"Logistics experience\", \"Media experience\", \"Private business experience\", \"Data in Pharma experience\", \"Additional tech education\", \"Additional soft skills education\", \"Business Process Optimization\", \"Change Management\", \"Data Analysis\", \"Data management\", \"Effective communication\", \"Leadership\", \"Pharma\"], \"line\": {\"color\": \"black\", \"width\": 0.5}, \"pad\": 15, \"thickness\": 20}, \"type\": \"sankey\"}],\n",
                            "                        {\"font\": {\"size\": 10}, \"template\": {\"data\": {\"bar\": [{\"error_x\": {\"color\": \"#2a3f5f\"}, \"error_y\": {\"color\": \"#2a3f5f\"}, \"marker\": {\"line\": {\"color\": \"#E5ECF6\", \"width\": 0.5}}, \"type\": \"bar\"}], \"barpolar\": [{\"marker\": {\"line\": {\"color\": \"#E5ECF6\", \"width\": 0.5}}, \"type\": \"barpolar\"}], \"carpet\": [{\"aaxis\": {\"endlinecolor\": \"#2a3f5f\", \"gridcolor\": \"white\", \"linecolor\": \"white\", \"minorgridcolor\": \"white\", \"startlinecolor\": \"#2a3f5f\"}, \"baxis\": {\"endlinecolor\": \"#2a3f5f\", \"gridcolor\": \"white\", \"linecolor\": \"white\", \"minorgridcolor\": \"white\", \"startlinecolor\": \"#2a3f5f\"}, \"type\": \"carpet\"}], \"choropleth\": [{\"colorbar\": {\"outlinewidth\": 0, \"ticks\": \"\"}, \"type\": \"choropleth\"}], \"contour\": [{\"colorbar\": {\"outlinewidth\": 0, \"ticks\": \"\"}, \"colorscale\": [[0.0, \"#0d0887\"], [0.1111111111111111, \"#46039f\"], [0.2222222222222222, \"#7201a8\"], [0.3333333333333333, \"#9c179e\"], [0.4444444444444444, \"#bd3786\"], [0.5555555555555556, \"#d8576b\"], [0.6666666666666666, \"#ed7953\"], [0.7777777777777778, \"#fb9f3a\"], [0.8888888888888888, \"#fdca26\"], [1.0, \"#f0f921\"]], \"type\": \"contour\"}], \"contourcarpet\": [{\"colorbar\": {\"outlinewidth\": 0, \"ticks\": \"\"}, \"type\": \"contourcarpet\"}], \"heatmap\": [{\"colorbar\": {\"outlinewidth\": 0, \"ticks\": \"\"}, \"colorscale\": [[0.0, \"#0d0887\"], [0.1111111111111111, \"#46039f\"], [0.2222222222222222, \"#7201a8\"], [0.3333333333333333, \"#9c179e\"], [0.4444444444444444, \"#bd3786\"], [0.5555555555555556, \"#d8576b\"], [0.6666666666666666, \"#ed7953\"], [0.7777777777777778, \"#fb9f3a\"], [0.8888888888888888, \"#fdca26\"], [1.0, \"#f0f921\"]], \"type\": \"heatmap\"}], \"heatmapgl\": [{\"colorbar\": {\"outlinewidth\": 0, \"ticks\": \"\"}, \"colorscale\": [[0.0, \"#0d0887\"], [0.1111111111111111, \"#46039f\"], [0.2222222222222222, \"#7201a8\"], [0.3333333333333333, \"#9c179e\"], [0.4444444444444444, \"#bd3786\"], [0.5555555555555556, \"#d8576b\"], [0.6666666666666666, \"#ed7953\"], [0.7777777777777778, \"#fb9f3a\"], [0.8888888888888888, \"#fdca26\"], [1.0, \"#f0f921\"]], \"type\": \"heatmapgl\"}], \"histogram\": [{\"marker\": {\"colorbar\": {\"outlinewidth\": 0, \"ticks\": \"\"}}, \"type\": \"histogram\"}], \"histogram2d\": [{\"colorbar\": {\"outlinewidth\": 0, \"ticks\": \"\"}, \"colorscale\": [[0.0, \"#0d0887\"], [0.1111111111111111, \"#46039f\"], [0.2222222222222222, \"#7201a8\"], [0.3333333333333333, \"#9c179e\"], [0.4444444444444444, \"#bd3786\"], [0.5555555555555556, \"#d8576b\"], [0.6666666666666666, \"#ed7953\"], [0.7777777777777778, \"#fb9f3a\"], [0.8888888888888888, \"#fdca26\"], [1.0, \"#f0f921\"]], \"type\": \"histogram2d\"}], \"histogram2dcontour\": [{\"colorbar\": {\"outlinewidth\": 0, \"ticks\": \"\"}, \"colorscale\": [[0.0, \"#0d0887\"], [0.1111111111111111, \"#46039f\"], [0.2222222222222222, \"#7201a8\"], [0.3333333333333333, \"#9c179e\"], [0.4444444444444444, \"#bd3786\"], [0.5555555555555556, \"#d8576b\"], [0.6666666666666666, \"#ed7953\"], [0.7777777777777778, \"#fb9f3a\"], [0.8888888888888888, \"#fdca26\"], [1.0, \"#f0f921\"]], \"type\": \"histogram2dcontour\"}], \"mesh3d\": [{\"colorbar\": {\"outlinewidth\": 0, \"ticks\": \"\"}, \"type\": \"mesh3d\"}], \"parcoords\": [{\"line\": {\"colorbar\": {\"outlinewidth\": 0, \"ticks\": \"\"}}, \"type\": \"parcoords\"}], \"pie\": [{\"automargin\": true, \"type\": \"pie\"}], \"scatter\": [{\"marker\": {\"colorbar\": {\"outlinewidth\": 0, \"ticks\": \"\"}}, \"type\": \"scatter\"}], \"scatter3d\": [{\"line\": {\"colorbar\": {\"outlinewidth\": 0, \"ticks\": \"\"}}, \"marker\": {\"colorbar\": {\"outlinewidth\": 0, \"ticks\": \"\"}}, \"type\": \"scatter3d\"}], \"scattercarpet\": [{\"marker\": {\"colorbar\": {\"outlinewidth\": 0, \"ticks\": \"\"}}, \"type\": \"scattercarpet\"}], \"scattergeo\": [{\"marker\": {\"colorbar\": {\"outlinewidth\": 0, \"ticks\": \"\"}}, \"type\": \"scattergeo\"}], \"scattergl\": [{\"marker\": {\"colorbar\": {\"outlinewidth\": 0, \"ticks\": \"\"}}, \"type\": \"scattergl\"}], \"scattermapbox\": [{\"marker\": {\"colorbar\": {\"outlinewidth\": 0, \"ticks\": \"\"}}, \"type\": \"scattermapbox\"}], \"scatterpolar\": [{\"marker\": {\"colorbar\": {\"outlinewidth\": 0, \"ticks\": \"\"}}, \"type\": \"scatterpolar\"}], \"scatterpolargl\": [{\"marker\": {\"colorbar\": {\"outlinewidth\": 0, \"ticks\": \"\"}}, \"type\": \"scatterpolargl\"}], \"scatterternary\": [{\"marker\": {\"colorbar\": {\"outlinewidth\": 0, \"ticks\": \"\"}}, \"type\": \"scatterternary\"}], \"surface\": [{\"colorbar\": {\"outlinewidth\": 0, \"ticks\": \"\"}, \"colorscale\": [[0.0, \"#0d0887\"], [0.1111111111111111, \"#46039f\"], [0.2222222222222222, \"#7201a8\"], [0.3333333333333333, \"#9c179e\"], [0.4444444444444444, \"#bd3786\"], [0.5555555555555556, \"#d8576b\"], [0.6666666666666666, \"#ed7953\"], [0.7777777777777778, \"#fb9f3a\"], [0.8888888888888888, \"#fdca26\"], [1.0, \"#f0f921\"]], \"type\": \"surface\"}], \"table\": [{\"cells\": {\"fill\": {\"color\": \"#EBF0F8\"}, \"line\": {\"color\": \"white\"}}, \"header\": {\"fill\": {\"color\": \"#C8D4E3\"}, \"line\": {\"color\": \"white\"}}, \"type\": \"table\"}]}, \"layout\": {\"annotationdefaults\": {\"arrowcolor\": \"#2a3f5f\", \"arrowhead\": 0, \"arrowwidth\": 1}, \"coloraxis\": {\"colorbar\": {\"outlinewidth\": 0, \"ticks\": \"\"}}, \"colorscale\": {\"diverging\": [[0, \"#8e0152\"], [0.1, \"#c51b7d\"], [0.2, \"#de77ae\"], [0.3, \"#f1b6da\"], [0.4, \"#fde0ef\"], [0.5, \"#f7f7f7\"], [0.6, \"#e6f5d0\"], [0.7, \"#b8e186\"], [0.8, \"#7fbc41\"], [0.9, \"#4d9221\"], [1, \"#276419\"]], \"sequential\": [[0.0, \"#0d0887\"], [0.1111111111111111, \"#46039f\"], [0.2222222222222222, \"#7201a8\"], [0.3333333333333333, \"#9c179e\"], [0.4444444444444444, \"#bd3786\"], [0.5555555555555556, \"#d8576b\"], [0.6666666666666666, \"#ed7953\"], [0.7777777777777778, \"#fb9f3a\"], [0.8888888888888888, \"#fdca26\"], [1.0, \"#f0f921\"]], \"sequentialminus\": [[0.0, \"#0d0887\"], [0.1111111111111111, \"#46039f\"], [0.2222222222222222, \"#7201a8\"], [0.3333333333333333, \"#9c179e\"], [0.4444444444444444, \"#bd3786\"], [0.5555555555555556, \"#d8576b\"], [0.6666666666666666, \"#ed7953\"], [0.7777777777777778, \"#fb9f3a\"], [0.8888888888888888, \"#fdca26\"], [1.0, \"#f0f921\"]]}, \"colorway\": [\"#636efa\", \"#EF553B\", \"#00cc96\", \"#ab63fa\", \"#FFA15A\", \"#19d3f3\", \"#FF6692\", \"#B6E880\", \"#FF97FF\", \"#FECB52\"], \"font\": {\"color\": \"#2a3f5f\"}, \"geo\": {\"bgcolor\": \"white\", \"lakecolor\": \"white\", \"landcolor\": \"#E5ECF6\", \"showlakes\": true, \"showland\": true, \"subunitcolor\": \"white\"}, \"hoverlabel\": {\"align\": \"left\"}, \"hovermode\": \"closest\", \"mapbox\": {\"style\": \"light\"}, \"paper_bgcolor\": \"white\", \"plot_bgcolor\": \"#E5ECF6\", \"polar\": {\"angularaxis\": {\"gridcolor\": \"white\", \"linecolor\": \"white\", \"ticks\": \"\"}, \"bgcolor\": \"#E5ECF6\", \"radialaxis\": {\"gridcolor\": \"white\", \"linecolor\": \"white\", \"ticks\": \"\"}}, \"scene\": {\"xaxis\": {\"backgroundcolor\": \"#E5ECF6\", \"gridcolor\": \"white\", \"gridwidth\": 2, \"linecolor\": \"white\", \"showbackground\": true, \"ticks\": \"\", \"zerolinecolor\": \"white\"}, \"yaxis\": {\"backgroundcolor\": \"#E5ECF6\", \"gridcolor\": \"white\", \"gridwidth\": 2, \"linecolor\": \"white\", \"showbackground\": true, \"ticks\": \"\", \"zerolinecolor\": \"white\"}, \"zaxis\": {\"backgroundcolor\": \"#E5ECF6\", \"gridcolor\": \"white\", \"gridwidth\": 2, \"linecolor\": \"white\", \"showbackground\": true, \"ticks\": \"\", \"zerolinecolor\": \"white\"}}, \"shapedefaults\": {\"line\": {\"color\": \"#2a3f5f\"}}, \"ternary\": {\"aaxis\": {\"gridcolor\": \"white\", \"linecolor\": \"white\", \"ticks\": \"\"}, \"baxis\": {\"gridcolor\": \"white\", \"linecolor\": \"white\", \"ticks\": \"\"}, \"bgcolor\": \"#E5ECF6\", \"caxis\": {\"gridcolor\": \"white\", \"linecolor\": \"white\", \"ticks\": \"\"}}, \"title\": {\"x\": 0.05}, \"xaxis\": {\"automargin\": true, \"gridcolor\": \"white\", \"linecolor\": \"white\", \"ticks\": \"\", \"title\": {\"standoff\": 15}, \"zerolinecolor\": \"white\", \"zerolinewidth\": 2}, \"yaxis\": {\"automargin\": true, \"gridcolor\": \"white\", \"linecolor\": \"white\", \"ticks\": \"\", \"title\": {\"standoff\": 15}, \"zerolinecolor\": \"white\", \"zerolinewidth\": 2}}}, \"title\": {\"text\": \"Nina Arsenteva main skills\"}},\n",
                            "                        {\"responsive\": true}\n",
                            "                    ).then(function(){\n",
                            "                            \n",
                            "var gd = document.getElementById('0ebebdb4-9f71-45c4-9eeb-1467aee4d07a');\n",
                            "var x = new MutationObserver(function (mutations, observer) {{\n",
                            "        var display = window.getComputedStyle(gd).display;\n",
                            "        if (!display || display === 'none') {{\n",
                            "            console.log([gd, 'removed!']);\n",
                            "            Plotly.purge(gd);\n",
                            "            observer.disconnect();\n",
                            "        }}\n",
                            "}});\n",
                            "\n",
                            "// Listen for the removal of the full notebook cells\n",
                            "var notebookContainer = gd.closest('#notebook-container');\n",
                            "if (notebookContainer) {{\n",
                            "    x.observe(notebookContainer, {childList: true});\n",
                            "}}\n",
                            "\n",
                            "// Listen for the clearing of the current output cell\n",
                            "var outputEl = gd.closest('.output');\n",
                            "if (outputEl) {{\n",
                            "    x.observe(outputEl, {childList: true});\n",
                            "}}\n",
                            "\n",
                            "                        })\n",
                            "                };\n",
                            "                });\n",
                            "            </script>\n",
                            "        </div>"
                        ],
                        "application/vnd.plotly.v1+json": {
                            "data": [
                                {
                                    "link": {
                                        "value": [
                                            1,
                                            1,
                                            2,
                                            2,
                                            1,
                                            1,
                                            1,
                                            1,
                                            2,
                                            2,
                                            1,
                                            1,
                                            1,
                                            1,
                                            1,
                                            1,
                                            1,
                                            1,
                                            1,
                                            1,
                                            1,
                                            2,
                                            1,
                                            1,
                                            2,
                                            1,
                                            1,
                                            4,
                                            2,
                                            2,
                                            2,
                                            1,
                                            1,
                                            1,
                                            1,
                                            1,
                                            1,
                                            1,
                                            1,
                                            1,
                                            1,
                                            1,
                                            1,
                                            1,
                                            1,
                                            1,
                                            1
                                        ],
                                        "source": [
                                            0,
                                            0,
                                            1,
                                            1,
                                            2,
                                            2,
                                            2,
                                            2,
                                            3,
                                            3,
                                            3,
                                            3,
                                            3,
                                            4,
                                            4,
                                            4,
                                            5,
                                            5,
                                            6,
                                            6,
                                            6,
                                            7,
                                            7,
                                            7,
                                            7,
                                            7,
                                            7,
                                            7,
                                            8,
                                            8,
                                            9,
                                            9,
                                            2,
                                            3,
                                            0,
                                            2,
                                            0,
                                            6,
                                            3,
                                            5,
                                            4,
                                            1,
                                            7,
                                            2,
                                            0,
                                            9,
                                            9
                                        ],
                                        "target": [
                                            10,
                                            14,
                                            12,
                                            13,
                                            10,
                                            11,
                                            12,
                                            13,
                                            10,
                                            11,
                                            12,
                                            13,
                                            14,
                                            10,
                                            14,
                                            15,
                                            12,
                                            14,
                                            10,
                                            14,
                                            15,
                                            10,
                                            11,
                                            12,
                                            13,
                                            14,
                                            15,
                                            16,
                                            12,
                                            13,
                                            14,
                                            15,
                                            5,
                                            5,
                                            6,
                                            6,
                                            4,
                                            4,
                                            9,
                                            9,
                                            7,
                                            8,
                                            8,
                                            7,
                                            13,
                                            10,
                                            11
                                        ]
                                    },
                                    "node": {
                                        "pad": 15,
                                        "line": {
                                            "color": "black",
                                            "width": 0.5
                                        },
                                        "color": [
                                            "lavender",
                                            "white",
                                            "white",
                                            "white",
                                            "purple",
                                            "purple",
                                            "purple",
                                            "purple",
                                            "lavender",
                                            "lavender",
                                            "navy",
                                            "navy",
                                            "navy",
                                            "navy",
                                            "navy",
                                            "navy",
                                            "navy"
                                        ],
                                        "label": [
                                            "Management education",
                                            "Math abilities",
                                            "Hard working",
                                            "Critical thinking",
                                            "Logistics experience",
                                            "Media experience",
                                            "Private business experience",
                                            "Data in Pharma experience",
                                            "Additional tech education",
                                            "Additional soft skills education",
                                            "Business Process Optimization",
                                            "Change Management",
                                            "Data Analysis",
                                            "Data management",
                                            "Effective communication",
                                            "Leadership",
                                            "Pharma"
                                        ],
                                        "thickness": 20
                                    },
                                    "type": "sankey"
                                }
                            ],
                            "config": {
                                "plotlyServerURL": "https://plot.ly"
                            },
                            "layout": {
                                "font": {
                                    "size": 10
                                },
                                "title": {
                                    "text": "Nina Arsenteva main skills"
                                },
                                "template": {
                                    "data": {
                                        "bar": [
                                            {
                                                "type": "bar",
                                                "marker": {
                                                    "line": {
                                                        "color": "#E5ECF6",
                                                        "width": 0.5
                                                    }
                                                },
                                                "error_x": {
                                                    "color": "#2a3f5f"
                                                },
                                                "error_y": {
                                                    "color": "#2a3f5f"
                                                }
                                            }
                                        ],
                                        "pie": [
                                            {
                                                "type": "pie",
                                                "automargin": true
                                            }
                                        ],
                                        "table": [
                                            {
                                                "type": "table",
                                                "cells": {
                                                    "fill": {
                                                        "color": "#EBF0F8"
                                                    },
                                                    "line": {
                                                        "color": "white"
                                                    }
                                                },
                                                "header": {
                                                    "fill": {
                                                        "color": "#C8D4E3"
                                                    },
                                                    "line": {
                                                        "color": "white"
                                                    }
                                                }
                                            }
                                        ],
                                        "carpet": [
                                            {
                                                "type": "carpet",
                                                "aaxis": {
                                                    "gridcolor": "white",
                                                    "linecolor": "white",
                                                    "endlinecolor": "#2a3f5f",
                                                    "minorgridcolor": "white",
                                                    "startlinecolor": "#2a3f5f"
                                                },
                                                "baxis": {
                                                    "gridcolor": "white",
                                                    "linecolor": "white",
                                                    "endlinecolor": "#2a3f5f",
                                                    "minorgridcolor": "white",
                                                    "startlinecolor": "#2a3f5f"
                                                }
                                            }
                                        ],
                                        "mesh3d": [
                                            {
                                                "type": "mesh3d",
                                                "colorbar": {
                                                    "ticks": "",
                                                    "outlinewidth": 0
                                                }
                                            }
                                        ],
                                        "contour": [
                                            {
                                                "type": "contour",
                                                "colorbar": {
                                                    "ticks": "",
                                                    "outlinewidth": 0
                                                },
                                                "colorscale": [
                                                    [
                                                        0,
                                                        "#0d0887"
                                                    ],
                                                    [
                                                        0.1111111111111111,
                                                        "#46039f"
                                                    ],
                                                    [
                                                        0.2222222222222222,
                                                        "#7201a8"
                                                    ],
                                                    [
                                                        0.3333333333333333,
                                                        "#9c179e"
                                                    ],
                                                    [
                                                        0.4444444444444444,
                                                        "#bd3786"
                                                    ],
                                                    [
                                                        0.5555555555555556,
                                                        "#d8576b"
                                                    ],
                                                    [
                                                        0.6666666666666666,
                                                        "#ed7953"
                                                    ],
                                                    [
                                                        0.7777777777777778,
                                                        "#fb9f3a"
                                                    ],
                                                    [
                                                        0.8888888888888888,
                                                        "#fdca26"
                                                    ],
                                                    [
                                                        1,
                                                        "#f0f921"
                                                    ]
                                                ]
                                            }
                                        ],
                                        "heatmap": [
                                            {
                                                "type": "heatmap",
                                                "colorbar": {
                                                    "ticks": "",
                                                    "outlinewidth": 0
                                                },
                                                "colorscale": [
                                                    [
                                                        0,
                                                        "#0d0887"
                                                    ],
                                                    [
                                                        0.1111111111111111,
                                                        "#46039f"
                                                    ],
                                                    [
                                                        0.2222222222222222,
                                                        "#7201a8"
                                                    ],
                                                    [
                                                        0.3333333333333333,
                                                        "#9c179e"
                                                    ],
                                                    [
                                                        0.4444444444444444,
                                                        "#bd3786"
                                                    ],
                                                    [
                                                        0.5555555555555556,
                                                        "#d8576b"
                                                    ],
                                                    [
                                                        0.6666666666666666,
                                                        "#ed7953"
                                                    ],
                                                    [
                                                        0.7777777777777778,
                                                        "#fb9f3a"
                                                    ],
                                                    [
                                                        0.8888888888888888,
                                                        "#fdca26"
                                                    ],
                                                    [
                                                        1,
                                                        "#f0f921"
                                                    ]
                                                ]
                                            }
                                        ],
                                        "scatter": [
                                            {
                                                "type": "scatter",
                                                "marker": {
                                                    "colorbar": {
                                                        "ticks": "",
                                                        "outlinewidth": 0
                                                    }
                                                }
                                            }
                                        ],
                                        "surface": [
                                            {
                                                "type": "surface",
                                                "colorbar": {
                                                    "ticks": "",
                                                    "outlinewidth": 0
                                                },
                                                "colorscale": [
                                                    [
                                                        0,
                                                        "#0d0887"
                                                    ],
                                                    [
                                                        0.1111111111111111,
                                                        "#46039f"
                                                    ],
                                                    [
                                                        0.2222222222222222,
                                                        "#7201a8"
                                                    ],
                                                    [
                                                        0.3333333333333333,
                                                        "#9c179e"
                                                    ],
                                                    [
                                                        0.4444444444444444,
                                                        "#bd3786"
                                                    ],
                                                    [
                                                        0.5555555555555556,
                                                        "#d8576b"
                                                    ],
                                                    [
                                                        0.6666666666666666,
                                                        "#ed7953"
                                                    ],
                                                    [
                                                        0.7777777777777778,
                                                        "#fb9f3a"
                                                    ],
                                                    [
                                                        0.8888888888888888,
                                                        "#fdca26"
                                                    ],
                                                    [
                                                        1,
                                                        "#f0f921"
                                                    ]
                                                ]
                                            }
                                        ],
                                        "barpolar": [
                                            {
                                                "type": "barpolar",
                                                "marker": {
                                                    "line": {
                                                        "color": "#E5ECF6",
                                                        "width": 0.5
                                                    }
                                                }
                                            }
                                        ],
                                        "heatmapgl": [
                                            {
                                                "type": "heatmapgl",
                                                "colorbar": {
                                                    "ticks": "",
                                                    "outlinewidth": 0
                                                },
                                                "colorscale": [
                                                    [
                                                        0,
                                                        "#0d0887"
                                                    ],
                                                    [
                                                        0.1111111111111111,
                                                        "#46039f"
                                                    ],
                                                    [
                                                        0.2222222222222222,
                                                        "#7201a8"
                                                    ],
                                                    [
                                                        0.3333333333333333,
                                                        "#9c179e"
                                                    ],
                                                    [
                                                        0.4444444444444444,
                                                        "#bd3786"
                                                    ],
                                                    [
                                                        0.5555555555555556,
                                                        "#d8576b"
                                                    ],
                                                    [
                                                        0.6666666666666666,
                                                        "#ed7953"
                                                    ],
                                                    [
                                                        0.7777777777777778,
                                                        "#fb9f3a"
                                                    ],
                                                    [
                                                        0.8888888888888888,
                                                        "#fdca26"
                                                    ],
                                                    [
                                                        1,
                                                        "#f0f921"
                                                    ]
                                                ]
                                            }
                                        ],
                                        "histogram": [
                                            {
                                                "type": "histogram",
                                                "marker": {
                                                    "colorbar": {
                                                        "ticks": "",
                                                        "outlinewidth": 0
                                                    }
                                                }
                                            }
                                        ],
                                        "parcoords": [
                                            {
                                                "line": {
                                                    "colorbar": {
                                                        "ticks": "",
                                                        "outlinewidth": 0
                                                    }
                                                },
                                                "type": "parcoords"
                                            }
                                        ],
                                        "scatter3d": [
                                            {
                                                "line": {
                                                    "colorbar": {
                                                        "ticks": "",
                                                        "outlinewidth": 0
                                                    }
                                                },
                                                "type": "scatter3d",
                                                "marker": {
                                                    "colorbar": {
                                                        "ticks": "",
                                                        "outlinewidth": 0
                                                    }
                                                }
                                            }
                                        ],
                                        "scattergl": [
                                            {
                                                "type": "scattergl",
                                                "marker": {
                                                    "colorbar": {
                                                        "ticks": "",
                                                        "outlinewidth": 0
                                                    }
                                                }
                                            }
                                        ],
                                        "choropleth": [
                                            {
                                                "type": "choropleth",
                                                "colorbar": {
                                                    "ticks": "",
                                                    "outlinewidth": 0
                                                }
                                            }
                                        ],
                                        "scattergeo": [
                                            {
                                                "type": "scattergeo",
                                                "marker": {
                                                    "colorbar": {
                                                        "ticks": "",
                                                        "outlinewidth": 0
                                                    }
                                                }
                                            }
                                        ],
                                        "histogram2d": [
                                            {
                                                "type": "histogram2d",
                                                "colorbar": {
                                                    "ticks": "",
                                                    "outlinewidth": 0
                                                },
                                                "colorscale": [
                                                    [
                                                        0,
                                                        "#0d0887"
                                                    ],
                                                    [
                                                        0.1111111111111111,
                                                        "#46039f"
                                                    ],
                                                    [
                                                        0.2222222222222222,
                                                        "#7201a8"
                                                    ],
                                                    [
                                                        0.3333333333333333,
                                                        "#9c179e"
                                                    ],
                                                    [
                                                        0.4444444444444444,
                                                        "#bd3786"
                                                    ],
                                                    [
                                                        0.5555555555555556,
                                                        "#d8576b"
                                                    ],
                                                    [
                                                        0.6666666666666666,
                                                        "#ed7953"
                                                    ],
                                                    [
                                                        0.7777777777777778,
                                                        "#fb9f3a"
                                                    ],
                                                    [
                                                        0.8888888888888888,
                                                        "#fdca26"
                                                    ],
                                                    [
                                                        1,
                                                        "#f0f921"
                                                    ]
                                                ]
                                            }
                                        ],
                                        "scatterpolar": [
                                            {
                                                "type": "scatterpolar",
                                                "marker": {
                                                    "colorbar": {
                                                        "ticks": "",
                                                        "outlinewidth": 0
                                                    }
                                                }
                                            }
                                        ],
                                        "contourcarpet": [
                                            {
                                                "type": "contourcarpet",
                                                "colorbar": {
                                                    "ticks": "",
                                                    "outlinewidth": 0
                                                }
                                            }
                                        ],
                                        "scattercarpet": [
                                            {
                                                "type": "scattercarpet",
                                                "marker": {
                                                    "colorbar": {
                                                        "ticks": "",
                                                        "outlinewidth": 0
                                                    }
                                                }
                                            }
                                        ],
                                        "scattermapbox": [
                                            {
                                                "type": "scattermapbox",
                                                "marker": {
                                                    "colorbar": {
                                                        "ticks": "",
                                                        "outlinewidth": 0
                                                    }
                                                }
                                            }
                                        ],
                                        "scatterpolargl": [
                                            {
                                                "type": "scatterpolargl",
                                                "marker": {
                                                    "colorbar": {
                                                        "ticks": "",
                                                        "outlinewidth": 0
                                                    }
                                                }
                                            }
                                        ],
                                        "scatterternary": [
                                            {
                                                "type": "scatterternary",
                                                "marker": {
                                                    "colorbar": {
                                                        "ticks": "",
                                                        "outlinewidth": 0
                                                    }
                                                }
                                            }
                                        ],
                                        "histogram2dcontour": [
                                            {
                                                "type": "histogram2dcontour",
                                                "colorbar": {
                                                    "ticks": "",
                                                    "outlinewidth": 0
                                                },
                                                "colorscale": [
                                                    [
                                                        0,
                                                        "#0d0887"
                                                    ],
                                                    [
                                                        0.1111111111111111,
                                                        "#46039f"
                                                    ],
                                                    [
                                                        0.2222222222222222,
                                                        "#7201a8"
                                                    ],
                                                    [
                                                        0.3333333333333333,
                                                        "#9c179e"
                                                    ],
                                                    [
                                                        0.4444444444444444,
                                                        "#bd3786"
                                                    ],
                                                    [
                                                        0.5555555555555556,
                                                        "#d8576b"
                                                    ],
                                                    [
                                                        0.6666666666666666,
                                                        "#ed7953"
                                                    ],
                                                    [
                                                        0.7777777777777778,
                                                        "#fb9f3a"
                                                    ],
                                                    [
                                                        0.8888888888888888,
                                                        "#fdca26"
                                                    ],
                                                    [
                                                        1,
                                                        "#f0f921"
                                                    ]
                                                ]
                                            }
                                        ]
                                    },
                                    "layout": {
                                        "geo": {
                                            "bgcolor": "white",
                                            "showland": true,
                                            "lakecolor": "white",
                                            "landcolor": "#E5ECF6",
                                            "showlakes": true,
                                            "subunitcolor": "white"
                                        },
                                        "font": {
                                            "color": "#2a3f5f"
                                        },
                                        "polar": {
                                            "bgcolor": "#E5ECF6",
                                            "radialaxis": {
                                                "ticks": "",
                                                "gridcolor": "white",
                                                "linecolor": "white"
                                            },
                                            "angularaxis": {
                                                "ticks": "",
                                                "gridcolor": "white",
                                                "linecolor": "white"
                                            }
                                        },
                                        "scene": {
                                            "xaxis": {
                                                "ticks": "",
                                                "gridcolor": "white",
                                                "gridwidth": 2,
                                                "linecolor": "white",
                                                "zerolinecolor": "white",
                                                "showbackground": true,
                                                "backgroundcolor": "#E5ECF6"
                                            },
                                            "yaxis": {
                                                "ticks": "",
                                                "gridcolor": "white",
                                                "gridwidth": 2,
                                                "linecolor": "white",
                                                "zerolinecolor": "white",
                                                "showbackground": true,
                                                "backgroundcolor": "#E5ECF6"
                                            },
                                            "zaxis": {
                                                "ticks": "",
                                                "gridcolor": "white",
                                                "gridwidth": 2,
                                                "linecolor": "white",
                                                "zerolinecolor": "white",
                                                "showbackground": true,
                                                "backgroundcolor": "#E5ECF6"
                                            }
                                        },
                                        "title": {
                                            "x": 0.05
                                        },
                                        "xaxis": {
                                            "ticks": "",
                                            "title": {
                                                "standoff": 15
                                            },
                                            "gridcolor": "white",
                                            "linecolor": "white",
                                            "automargin": true,
                                            "zerolinecolor": "white",
                                            "zerolinewidth": 2
                                        },
                                        "yaxis": {
                                            "ticks": "",
                                            "title": {
                                                "standoff": 15
                                            },
                                            "gridcolor": "white",
                                            "linecolor": "white",
                                            "automargin": true,
                                            "zerolinecolor": "white",
                                            "zerolinewidth": 2
                                        },
                                        "mapbox": {
                                            "style": "light"
                                        },
                                        "ternary": {
                                            "aaxis": {
                                                "ticks": "",
                                                "gridcolor": "white",
                                                "linecolor": "white"
                                            },
                                            "baxis": {
                                                "ticks": "",
                                                "gridcolor": "white",
                                                "linecolor": "white"
                                            },
                                            "caxis": {
                                                "ticks": "",
                                                "gridcolor": "white",
                                                "linecolor": "white"
                                            },
                                            "bgcolor": "#E5ECF6"
                                        },
                                        "colorway": [
                                            "#636efa",
                                            "#EF553B",
                                            "#00cc96",
                                            "#ab63fa",
                                            "#FFA15A",
                                            "#19d3f3",
                                            "#FF6692",
                                            "#B6E880",
                                            "#FF97FF",
                                            "#FECB52"
                                        ],
                                        "coloraxis": {
                                            "colorbar": {
                                                "ticks": "",
                                                "outlinewidth": 0
                                            }
                                        },
                                        "hovermode": "closest",
                                        "colorscale": {
                                            "diverging": [
                                                [
                                                    0,
                                                    "#8e0152"
                                                ],
                                                [
                                                    0.1,
                                                    "#c51b7d"
                                                ],
                                                [
                                                    0.2,
                                                    "#de77ae"
                                                ],
                                                [
                                                    0.3,
                                                    "#f1b6da"
                                                ],
                                                [
                                                    0.4,
                                                    "#fde0ef"
                                                ],
                                                [
                                                    0.5,
                                                    "#f7f7f7"
                                                ],
                                                [
                                                    0.6,
                                                    "#e6f5d0"
                                                ],
                                                [
                                                    0.7,
                                                    "#b8e186"
                                                ],
                                                [
                                                    0.8,
                                                    "#7fbc41"
                                                ],
                                                [
                                                    0.9,
                                                    "#4d9221"
                                                ],
                                                [
                                                    1,
                                                    "#276419"
                                                ]
                                            ],
                                            "sequential": [
                                                [
                                                    0,
                                                    "#0d0887"
                                                ],
                                                [
                                                    0.1111111111111111,
                                                    "#46039f"
                                                ],
                                                [
                                                    0.2222222222222222,
                                                    "#7201a8"
                                                ],
                                                [
                                                    0.3333333333333333,
                                                    "#9c179e"
                                                ],
                                                [
                                                    0.4444444444444444,
                                                    "#bd3786"
                                                ],
                                                [
                                                    0.5555555555555556,
                                                    "#d8576b"
                                                ],
                                                [
                                                    0.6666666666666666,
                                                    "#ed7953"
                                                ],
                                                [
                                                    0.7777777777777778,
                                                    "#fb9f3a"
                                                ],
                                                [
                                                    0.8888888888888888,
                                                    "#fdca26"
                                                ],
                                                [
                                                    1,
                                                    "#f0f921"
                                                ]
                                            ],
                                            "sequentialminus": [
                                                [
                                                    0,
                                                    "#0d0887"
                                                ],
                                                [
                                                    0.1111111111111111,
                                                    "#46039f"
                                                ],
                                                [
                                                    0.2222222222222222,
                                                    "#7201a8"
                                                ],
                                                [
                                                    0.3333333333333333,
                                                    "#9c179e"
                                                ],
                                                [
                                                    0.4444444444444444,
                                                    "#bd3786"
                                                ],
                                                [
                                                    0.5555555555555556,
                                                    "#d8576b"
                                                ],
                                                [
                                                    0.6666666666666666,
                                                    "#ed7953"
                                                ],
                                                [
                                                    0.7777777777777778,
                                                    "#fb9f3a"
                                                ],
                                                [
                                                    0.8888888888888888,
                                                    "#fdca26"
                                                ],
                                                [
                                                    1,
                                                    "#f0f921"
                                                ]
                                            ]
                                        },
                                        "hoverlabel": {
                                            "align": "left"
                                        },
                                        "plot_bgcolor": "#E5ECF6",
                                        "paper_bgcolor": "white",
                                        "shapedefaults": {
                                            "line": {
                                                "color": "#2a3f5f"
                                            }
                                        },
                                        "annotationdefaults": {
                                            "arrowhead": 0,
                                            "arrowcolor": "#2a3f5f",
                                            "arrowwidth": 1
                                        }
                                    }
                                }
                            }
                        }
                    },
                    "metadata": {},
                    "output_type": "display_data"
                }
            ],
            "metadata": {},
            "cell_type": "code",
            "execution_count": 60
        },
        {
            "source": [],
            "outputs": [],
            "metadata": {},
            "cell_type": "code",
            "execution_count": null
        }
    ],
    "metadata": {
        "kernelspec": {
            "name": "python3",
            "language": "python",
            "display_name": "Python 3"
        },
        "language_info": {
            "name": "python",
            "version": "3.7.3",
            "mimetype": "text/x-python",
            "file_extension": ".py",
            "pygments_lexer": "ipython3",
            "codemirror_mode": {
                "name": "ipython",
                "version": 3
            },
            "nbconvert_exporter": "python"
        }
    },
    "nbformat": 4,
    "nbformat_minor": 2
}